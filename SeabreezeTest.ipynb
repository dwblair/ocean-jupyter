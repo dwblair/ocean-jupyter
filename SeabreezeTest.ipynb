{
 "cells": [
  {
   "cell_type": "markdown",
   "metadata": {},
   "source": [
    "# Seabreeze Test with Python"
   ]
  },
  {
   "cell_type": "markdown",
   "metadata": {},
   "source": [
    "Installed Python-Seabreeze Wrapper as follows:\n",
    "\n",
    "* need python, pip\n",
    "* sudo apt-get install build-essential python-numpy libusb-0.1-4 libusb-dev\n",
    "* sudo -H pip install pyusb\n",
    "* sudo -H pip install cython\n",
    "* git clone https://github.com/ap--/python-seabreeze.git\n",
    "* cd depository -> misc folder\n",
    "* ./install_libseabreeze.sh\n",
    "* ./install_udev_rules.sh\n",
    "* sudo -H pip install .\n",
    "* sudo udevadm trigger\n",
    "\n",
    "That should do it..."
   ]
  },
  {
   "cell_type": "code",
   "execution_count": 1,
   "metadata": {
    "collapsed": true
   },
   "outputs": [],
   "source": [
    "# We might need to go with the pyseabreeze backend\n",
    "import seabreeze\n",
    "seabreeze.use('pyseabreeze')"
   ]
  },
  {
   "cell_type": "code",
   "execution_count": 2,
   "metadata": {
    "collapsed": true
   },
   "outputs": [],
   "source": [
    "# Python interface\n",
    "import seabreeze.spectrometers as sb"
   ]
  },
  {
   "cell_type": "code",
   "execution_count": 9,
   "metadata": {
    "collapsed": true
   },
   "outputs": [],
   "source": [
    "# to plot\n",
    "import matplotlib.pyplot as plt\n",
    "import numpy as np"
   ]
  },
  {
   "cell_type": "code",
   "execution_count": 3,
   "metadata": {
    "collapsed": false
   },
   "outputs": [
    {
     "data": {
      "text/plain": [
       "<DEVICE ID 1bcf:2b8a on Bus 001 Address 004>"
      ]
     },
     "execution_count": 3,
     "metadata": {},
     "output_type": "execute_result"
    }
   ],
   "source": [
    "# Test USB\n",
    "import usb.core\n",
    "usb.core.find()"
   ]
  },
  {
   "cell_type": "code",
   "execution_count": 4,
   "metadata": {
    "collapsed": true
   },
   "outputs": [],
   "source": [
    "# load list of spectrometers\n",
    "devices = sb.list_devices()"
   ]
  },
  {
   "cell_type": "code",
   "execution_count": 5,
   "metadata": {
    "collapsed": false
   },
   "outputs": [
    {
     "name": "stdout",
     "output_type": "stream",
     "text": [
      "[<SeaBreezeDevice USB2000PLUS:FLMN01442>, <SeaBreezeDevice QEPRO:QEP00952>, <SeaBreezeDevice USB2000PLUS:FLMS00750>]\n"
     ]
    }
   ],
   "source": [
    "# print list\n",
    "print devices"
   ]
  },
  {
   "cell_type": "code",
   "execution_count": null,
   "metadata": {
    "collapsed": true
   },
   "outputs": [],
   "source": [
    "# assign first spectrometer to variable\n",
    "spec = sb.Spectrometer(devices[0])"
   ]
  },
  {
   "cell_type": "code",
   "execution_count": 14,
   "metadata": {
    "collapsed": true
   },
   "outputs": [],
   "source": [
    "spec1 = sb.Spectrometer(devices[1])"
   ]
  },
  {
   "cell_type": "code",
   "execution_count": 22,
   "metadata": {
    "collapsed": true
   },
   "outputs": [],
   "source": [
    "spec2 = sb.Spectrometer(devices[2])"
   ]
  },
  {
   "cell_type": "code",
   "execution_count": 11,
   "metadata": {
    "collapsed": false
   },
   "outputs": [
    {
     "data": {
      "text/plain": [
       "array([   938.33319   ,    944.25438709,    950.1707475 , ...,\n",
       "        72411.34685169,  72509.39286736,  72607.53386616])"
      ]
     },
     "execution_count": 11,
     "metadata": {},
     "output_type": "execute_result"
    }
   ],
   "source": [
    "# get wavelengths\n",
    "spec.wavelengths()"
   ]
  },
  {
   "cell_type": "code",
   "execution_count": 23,
   "metadata": {
    "collapsed": false,
    "scrolled": true
   },
   "outputs": [
    {
     "data": {
      "text/plain": [
       "array([  1.63837500e+01,   2.68155177e+04,   2.36862214e+03, ...,\n",
       "         2.59331357e+03,   2.59331357e+03,   2.59331357e+03])"
      ]
     },
     "execution_count": 23,
     "metadata": {},
     "output_type": "execute_result"
    }
   ],
   "source": [
    "# and intensities\n",
    "spec2.intensities()"
   ]
  },
  {
   "cell_type": "code",
   "execution_count": 15,
   "metadata": {
    "collapsed": false
   },
   "outputs": [
    {
     "data": {
      "text/plain": [
       "array([  398.49414062,   399.29705439,   400.09988946, ...,  1191.72064088,\n",
       "        1192.44161862,  1193.16251765])"
      ]
     },
     "execution_count": 15,
     "metadata": {},
     "output_type": "execute_result"
    }
   ],
   "source": [
    "spec1.wavelengths()"
   ]
  },
  {
   "cell_type": "code",
   "execution_count": 19,
   "metadata": {
    "collapsed": false
   },
   "outputs": [
    {
     "data": {
      "text/plain": [
       "array([ 1543.,  1533.,  1534., ...,  1533.,  1534.,  1532.])"
      ]
     },
     "execution_count": 19,
     "metadata": {},
     "output_type": "execute_result"
    }
   ],
   "source": [
    "spec1.intensities()"
   ]
  },
  {
   "cell_type": "code",
   "execution_count": 32,
   "metadata": {
    "collapsed": false
   },
   "outputs": [
    {
     "data": {
      "image/png": "[encoded data removed]",
      "text/plain": [
       "<matplotlib.figure.Figure at 0x7ff87a9c1cd0>"
      ]
     },
     "metadata": {},
     "output_type": "display_data"
    }
   ],
   "source": [
    "# a simple plot\n",
    "#plt.plot(spec.wavelengths(), spec.intensities())\n",
    "plt.plot(spec1.wavelengths(), spec1.intensities())\n",
    "#plt.plot(spec2.wavelengths(), spec2.intensities())\n",
    "\n",
    "plt.xlabel('Wavelength (nm)')\n",
    "plt.ylabel('Intensity (counts)')\n",
    "plt.title('QEPRO')\n",
    "plt.grid(True)\n",
    "plt.show()"
   ]
  },
  {
   "cell_type": "code",
   "execution_count": 28,
   "metadata": {
    "collapsed": false
   },
   "outputs": [
    {
     "data": {
      "image/png": "[encoded data removed]",
      "text/plain": [
       "<matplotlib.figure.Figure at 0x7ff87a7b5390>"
      ]
     },
     "metadata": {},
     "output_type": "display_data"
    }
   ],
   "source": [
    "# a simple plot\n",
    "plt.plot(spec1.wavelengths(), spec1.intensities())\n",
    "\n",
    "plt.xlabel('Wavelength (nm)')\n",
    "plt.ylabel('Intensity (counts)')\n",
    "plt.title('A Spectrum!')\n",
    "plt.grid(True)\n",
    "plt.show()"
   ]
  },
  {
   "cell_type": "code",
   "execution_count": null,
   "metadata": {
    "collapsed": true
   },
   "outputs": [],
   "source": []
  }
 ],
 "metadata": {
  "kernelspec": {
   "display_name": "Python 2",
   "language": "python",
   "name": "python2"
  },
  "language_info": {
   "codemirror_mode": {
    "name": "ipython",
    "version": 2
   },
   "file_extension": ".py",
   "mimetype": "text/x-python",
   "name": "python",
   "nbconvert_exporter": "python",
   "pygments_lexer": "ipython2",
   "version": "2.7.12"
  }
 },
 "nbformat": 4,
 "nbformat_minor": 2
}
